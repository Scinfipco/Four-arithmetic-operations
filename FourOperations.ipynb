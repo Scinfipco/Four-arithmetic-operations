{
 "cells": [
  {
   "cell_type": "code",
   "execution_count": 1,
   "metadata": {},
   "outputs": [],
   "source": [
    "# Perform four arithmetic operations\n",
    "def arithmetic(a, b, operator):  \n",
    "    return { 'add': a + b, 'subtract': a - b, 'multiply': a * b, 'divide': a / b, }[operator]"
   ]
  },
  {
   "cell_type": "code",
   "execution_count": 2,
   "metadata": {},
   "outputs": [],
   "source": [
    "# Read data from the file for calculation\n",
    "def ReadFile():\n",
    "    print(\"There are 30 sample data in the file,the operation results are as follows:\" )\n",
    "    with open(\"data.txt\",\"r+\") as bf:\n",
    "        for line in bf.readlines():\n",
    "            line = line.strip('\\n')\n",
    "            print(line,\"=\",eval(line))  # Calling the function to perform for artithmetic four operation"
   ]
  },
  {
   "cell_type": "code",
   "execution_count": 4,
   "metadata": {},
   "outputs": [
    {
     "name": "stdout",
     "output_type": "stream",
     "text": [
      "Please select the data input method：\n",
      "1.Enter data manually  2.Read data from the file\n",
      "Please input corresponding the number:i\n",
      "Incorrect input,please input corresponding the number:2\n",
      "There are 30 sample data in the file,the operation results are as follows:\n",
      "2+3+4 = 9\n",
      "2+3-4 = 1\n",
      "2+3*4 = 14\n",
      "2+3/4 = 2.75\n",
      "2-3+4 = 3\n",
      "2-3-4 = -5\n",
      "2-3*4 = -10\n",
      "2-3/4 = 1.25\n",
      "2*3+4 = 10\n",
      "2*3-4 = 2\n",
      "2*3*4 = 24\n",
      "2*3/4 = 1.5\n",
      "2/3+4 = 4.666666666666667\n",
      "2/3-4 = -3.3333333333333335\n",
      "2/3*4 = 2.6666666666666665\n",
      "2/3/4 = 0.16666666666666666\n",
      "(2+3)*4 = 20\n",
      "(2+3)/4 = 1.25\n",
      "(2-3)*4 = -4\n",
      "(2-3)/4 = -0.25\n",
      "2*(3+4) = 14\n",
      "2*(3-4) = -2\n",
      "2/(3+4) = 0.2857142857142857\n",
      "2/(3-4) = -2.0\n",
      "2-(3+4) = -5\n",
      "2-(3-4) = 3\n",
      "2+(3+4) = 9\n",
      "2+(3-4) = 1\n",
      "2*(3/4) = 1.5\n",
      "2/(3*4) = 0.16666666666666666\n"
     ]
    }
   ],
   "source": [
    "print(\"Please select the data input method：\")\n",
    "print(\"1.Enter data manually \",\"2.Read data from the file\")\n",
    "flag = input(\"Please input corresponding the number:\")\n",
    "while not (flag=='1'or flag == '2'):\n",
    "    flag = input(\"Incorrect input,please input corresponding the number:\")    \n",
    "if flag == '1':\n",
    "    expression = input(\"Please input the full expression:\")\n",
    "    expression = expression.strip('\\n')\n",
    "    print(expression,\"=\",eval(expression))\n",
    "else:\n",
    "    ReadFile()    "
   ]
  },
  {
   "cell_type": "code",
   "execution_count": null,
   "metadata": {},
   "outputs": [],
   "source": []
  }
 ],
 "metadata": {
  "kernelspec": {
   "display_name": "Python 3",
   "language": "python",
   "name": "python3"
  },
  "language_info": {
   "codemirror_mode": {
    "name": "ipython",
    "version": 3
   },
   "file_extension": ".py",
   "mimetype": "text/x-python",
   "name": "python",
   "nbconvert_exporter": "python",
   "pygments_lexer": "ipython3",
   "version": "3.7.1"
  }
 },
 "nbformat": 4,
 "nbformat_minor": 2
}
